{
 "cells": [
  {
   "cell_type": "code",
   "execution_count": 1,
   "id": "4ce6456c-ecc3-44c6-b889-1e3c77989f4e",
   "metadata": {},
   "outputs": [
    {
     "data": {
      "text/html": [
       "<div>\n",
       "<style scoped>\n",
       "    .dataframe tbody tr th:only-of-type {\n",
       "        vertical-align: middle;\n",
       "    }\n",
       "\n",
       "    .dataframe tbody tr th {\n",
       "        vertical-align: top;\n",
       "    }\n",
       "\n",
       "    .dataframe thead th {\n",
       "        text-align: right;\n",
       "    }\n",
       "</style>\n",
       "<table border=\"1\" class=\"dataframe\">\n",
       "  <thead>\n",
       "    <tr style=\"text-align: right;\">\n",
       "      <th></th>\n",
       "      <th>Pregnancies</th>\n",
       "      <th>Glucose</th>\n",
       "      <th>BloodPressure</th>\n",
       "      <th>SkinThickness</th>\n",
       "      <th>Insulin</th>\n",
       "      <th>BMI</th>\n",
       "      <th>DiabetesPedigreeFunction</th>\n",
       "      <th>Age</th>\n",
       "      <th>Outcome</th>\n",
       "    </tr>\n",
       "  </thead>\n",
       "  <tbody>\n",
       "    <tr>\n",
       "      <th>0</th>\n",
       "      <td>6</td>\n",
       "      <td>148</td>\n",
       "      <td>72</td>\n",
       "      <td>35</td>\n",
       "      <td>0</td>\n",
       "      <td>33.6</td>\n",
       "      <td>0.627</td>\n",
       "      <td>50</td>\n",
       "      <td>1</td>\n",
       "    </tr>\n",
       "    <tr>\n",
       "      <th>1</th>\n",
       "      <td>1</td>\n",
       "      <td>85</td>\n",
       "      <td>66</td>\n",
       "      <td>29</td>\n",
       "      <td>0</td>\n",
       "      <td>26.6</td>\n",
       "      <td>0.351</td>\n",
       "      <td>31</td>\n",
       "      <td>0</td>\n",
       "    </tr>\n",
       "    <tr>\n",
       "      <th>2</th>\n",
       "      <td>8</td>\n",
       "      <td>183</td>\n",
       "      <td>64</td>\n",
       "      <td>0</td>\n",
       "      <td>0</td>\n",
       "      <td>23.3</td>\n",
       "      <td>0.672</td>\n",
       "      <td>32</td>\n",
       "      <td>1</td>\n",
       "    </tr>\n",
       "    <tr>\n",
       "      <th>3</th>\n",
       "      <td>1</td>\n",
       "      <td>89</td>\n",
       "      <td>66</td>\n",
       "      <td>23</td>\n",
       "      <td>94</td>\n",
       "      <td>28.1</td>\n",
       "      <td>0.167</td>\n",
       "      <td>21</td>\n",
       "      <td>0</td>\n",
       "    </tr>\n",
       "    <tr>\n",
       "      <th>4</th>\n",
       "      <td>0</td>\n",
       "      <td>137</td>\n",
       "      <td>40</td>\n",
       "      <td>35</td>\n",
       "      <td>168</td>\n",
       "      <td>43.1</td>\n",
       "      <td>2.288</td>\n",
       "      <td>33</td>\n",
       "      <td>1</td>\n",
       "    </tr>\n",
       "  </tbody>\n",
       "</table>\n",
       "</div>"
      ],
      "text/plain": [
       "   Pregnancies  Glucose  BloodPressure  SkinThickness  Insulin   BMI  \\\n",
       "0            6      148             72             35        0  33.6   \n",
       "1            1       85             66             29        0  26.6   \n",
       "2            8      183             64              0        0  23.3   \n",
       "3            1       89             66             23       94  28.1   \n",
       "4            0      137             40             35      168  43.1   \n",
       "\n",
       "   DiabetesPedigreeFunction  Age  Outcome  \n",
       "0                     0.627   50        1  \n",
       "1                     0.351   31        0  \n",
       "2                     0.672   32        1  \n",
       "3                     0.167   21        0  \n",
       "4                     2.288   33        1  "
      ]
     },
     "execution_count": 1,
     "metadata": {},
     "output_type": "execute_result"
    }
   ],
   "source": [
    "import numpy as np\n",
    "import matplotlib.pyplot as plt\n",
    "import pandas as pd\n",
    "dataset = pd.read_csv('/Users/might/Desktop/Python Code Snips/Homework2/diabetes.csv')\n",
    "dataset.head()"
   ]
  },
  {
   "cell_type": "code",
   "execution_count": 2,
   "id": "83432a7a-0c5b-4a79-b862-9c54b2e826ec",
   "metadata": {},
   "outputs": [],
   "source": [
    "X = dataset.iloc[:,[0,1,2,3,4,5,6,7]].values\n",
    "Y = dataset.iloc[:, 8].values"
   ]
  },
  {
   "cell_type": "code",
   "execution_count": 3,
   "id": "ec97c5ac-3a20-4474-a299-275dcc0988d8",
   "metadata": {},
   "outputs": [],
   "source": [
    "#split training test split\n",
    "from sklearn.model_selection import train_test_split\n",
    "X_train, X_test, Y_train, Y_test = train_test_split(X, Y, train_size = 0.8, test_size = 0.2, random_state = 42)\n",
    "\n",
    "#Scale inputs\n",
    "from sklearn.preprocessing import StandardScaler\n",
    "X_scale = StandardScaler()\n",
    "X_train = X_scale.fit_transform(X_train)\n",
    "X_test = X_scale.transform(X_test)"
   ]
  },
  {
   "cell_type": "code",
   "execution_count": 4,
   "id": "38c841fc-28cc-42a5-8169-2698b261ff2a",
   "metadata": {},
   "outputs": [],
   "source": [
    "#Logistic Regression\n",
    "from sklearn.linear_model import LogisticRegression\n",
    "classifier = LogisticRegression(random_state = 0)\n",
    "classifier.fit(X_train, Y_train)\n",
    "\n",
    "Y_pred = classifier.predict(X_test)"
   ]
  },
  {
   "cell_type": "code",
   "execution_count": 5,
   "id": "520b25d6-79fe-4a9b-a217-7027bf5b0f03",
   "metadata": {},
   "outputs": [
    {
     "data": {
      "text/plain": [
       "array([0, 0, 0, 0, 0, 0, 0, 1, 1], dtype=int64)"
      ]
     },
     "execution_count": 5,
     "metadata": {},
     "output_type": "execute_result"
    }
   ],
   "source": [
    "Y_pred[0:9]"
   ]
  },
  {
   "cell_type": "code",
   "execution_count": 6,
   "id": "b7c3ea58-cabf-4982-9f99-8478fa0637c2",
   "metadata": {},
   "outputs": [
    {
     "data": {
      "text/plain": [
       "array([[79, 20],\n",
       "       [18, 37]], dtype=int64)"
      ]
     },
     "execution_count": 6,
     "metadata": {},
     "output_type": "execute_result"
    }
   ],
   "source": [
    "#Confusion Matrix to get accuracy\n",
    "from sklearn.metrics import confusion_matrix\n",
    "cnf_matrix = confusion_matrix(Y_test, Y_pred)\n",
    "cnf_matrix"
   ]
  },
  {
   "cell_type": "code",
   "execution_count": 7,
   "id": "662d4266-d463-46e8-8e81-bcc7dcab5d0a",
   "metadata": {},
   "outputs": [
    {
     "name": "stdout",
     "output_type": "stream",
     "text": [
      "Accuracy: 0.7532467532467533\n",
      "Precision: 0.6491228070175439\n",
      "Recall: 0.6727272727272727\n"
     ]
    }
   ],
   "source": [
    "#evaluate accuracy, precision and recall\n",
    "from sklearn.metrics import accuracy_score, precision_score, recall_score\n",
    "print(\"Accuracy:\", accuracy_score(Y_test, Y_pred))\n",
    "print(\"Precision:\", precision_score(Y_test, Y_pred))\n",
    "print(\"Recall:\", recall_score(Y_test, Y_pred))"
   ]
  },
  {
   "cell_type": "code",
   "execution_count": 8,
   "id": "3ce17a7b-e655-4637-9c48-02cc44a941ac",
   "metadata": {},
   "outputs": [
    {
     "data": {
      "text/plain": [
       "Text(0.5, 257.44, 'Predicted label')"
      ]
     },
     "execution_count": 8,
     "metadata": {},
     "output_type": "execute_result"
    },
    {
     "data": {
      "image/png": "[encoded data removed]",
      "text/plain": [
       "<Figure size 432x288 with 2 Axes>"
      ]
     },
     "metadata": {
      "needs_background": "light"
     },
     "output_type": "display_data"
    }
   ],
   "source": [
    "#Confusion matrix visual\n",
    "import seaborn as sns\n",
    "class_names = [0,1]\n",
    "fig, ax = plt.subplots()\n",
    "tick_marks = np.arange(len(class_names))\n",
    "plt.xticks(tick_marks, class_names)\n",
    "plt.yticks(tick_marks, class_names)\n",
    "#Heatmap\n",
    "sns.heatmap(pd.DataFrame(cnf_matrix), annot = True, cmap = \"GnBu\", fmt = 'g')\n",
    "ax.xaxis.set_label_position(\"top\")\n",
    "plt.tight_layout()\n",
    "plt.title('Confusion matrix', y=1.1)\n",
    "plt.ylabel('Actual label')\n",
    "plt.xlabel('Predicted label')"
   ]
  },
  {
   "cell_type": "code",
   "execution_count": 9,
   "id": "a2cdc837-1af8-4ad0-9e9e-e69253b4298b",
   "metadata": {},
   "outputs": [
    {
     "name": "stdout",
     "output_type": "stream",
     "text": [
      "start: -2.1305233527587832\n",
      "stop: 3.796298841201446\n"
     ]
    }
   ],
   "source": [
    "start= X_test[:,0].min()-1\n",
    "print(\"start:\", start)\n",
    "stop = X_test[:,0].max()+1\n",
    "print(\"stop:\", stop)"
   ]
  },
  {
   "cell_type": "code",
   "execution_count": 10,
   "id": "da63a2b2-508d-4315-ae0a-009d0674aeb7",
   "metadata": {},
   "outputs": [
    {
     "data": {
      "text/plain": [
       "GaussianNB()"
      ]
     },
     "execution_count": 10,
     "metadata": {},
     "output_type": "execute_result"
    }
   ],
   "source": [
    "#Problem 2\n",
    "#Naive Bays method\n",
    "from sklearn.naive_bayes import GaussianNB\n",
    "classifier = GaussianNB()\n",
    "classifier.fit(X_train, Y_train)"
   ]
  },
  {
   "cell_type": "code",
   "execution_count": 11,
   "id": "696ad28b-fddb-4293-acf1-1202c4dddd8b",
   "metadata": {},
   "outputs": [
    {
     "name": "stdout",
     "output_type": "stream",
     "text": [
      "Accuracy: 0.7662337662337663\n",
      "Precision: 0.6610169491525424\n",
      "Recall: 0.7090909090909091\n"
     ]
    }
   ],
   "source": [
    "#prediction\n",
    "Y2_Pred = classifier.predict(X_test)\n",
    "#confusion and accuracy\n",
    "cmatrix = confusion_matrix(Y_test, Y2_Pred)\n",
    "print(\"Accuracy:\", accuracy_score(Y_test, Y2_Pred))\n",
    "print(\"Precision:\", precision_score(Y_test, Y2_Pred))\n",
    "print(\"Recall:\", recall_score(Y_test, Y2_Pred))"
   ]
  },
  {
   "cell_type": "code",
   "execution_count": 12,
   "id": "98caef1b-c0ea-44b2-a803-35b06c9285e3",
   "metadata": {},
   "outputs": [
    {
     "data": {
      "text/plain": [
       "Text(0.5, 257.44, 'Predicted label')"
      ]
     },
     "execution_count": 12,
     "metadata": {},
     "output_type": "execute_result"
    },
    {
     "data": {
      "image/png": "[encoded data removed]",
      "text/plain": [
       "<Figure size 432x288 with 2 Axes>"
      ]
     },
     "metadata": {
      "needs_background": "light"
     },
     "output_type": "display_data"
    }
   ],
   "source": [
    "#Confusion matrix visual 2\n",
    "import seaborn as sns\n",
    "class_names = [0,1]\n",
    "fig, ax = plt.subplots()\n",
    "tick_marks = np.arange(len(class_names))\n",
    "plt.xticks(tick_marks, class_names)\n",
    "plt.yticks(tick_marks, class_names)\n",
    "#Heatmap\n",
    "sns.heatmap(pd.DataFrame(cmatrix), annot = True, cmap = \"GnBu\", fmt = 'g')\n",
    "ax.xaxis.set_label_position(\"top\")\n",
    "plt.tight_layout()\n",
    "plt.title('Confusion matrix', y=1.1)\n",
    "plt.ylabel('Actual label')\n",
    "plt.xlabel('Predicted label')"
   ]
  },
  {
   "cell_type": "code",
   "execution_count": 13,
   "id": "176fec6a-6d0d-4726-b7a8-f51cab50200b",
   "metadata": {},
   "outputs": [],
   "source": [
    "#Problem 3\n",
    "#Import required libraries for KFold\n",
    "from sklearn.model_selection import KFold\n",
    "from sklearn.preprocessing import MinMaxScaler\n",
    "from sklearn.model_selection import cross_validate\n",
    "from sklearn.model_selection import cross_val_predict\n",
    "from sklearn.metrics import make_scorer\n",
    "\n",
    "#Read csv file\n",
    "X = dataset.iloc[:, [0, 7]]\n",
    "Y = dataset.iloc[:, 8]\n",
    "X_train, X_test, Y_train, Y_test = train_test_split(X, Y, train_size = 0.8, test_size = 0.2, random_state = 42)"
   ]
  },
  {
   "cell_type": "code",
   "execution_count": 14,
   "id": "c6074f9e-23d7-49f0-b34c-101d51655534",
   "metadata": {},
   "outputs": [
    {
     "data": {
      "text/plain": [
       "LogisticRegression(random_state=42)"
      ]
     },
     "execution_count": 14,
     "metadata": {},
     "output_type": "execute_result"
    }
   ],
   "source": [
    "scoring = {'accuracy' : 'accuracy', \n",
    "           'precision' : 'precision',\n",
    "           'recall' : 'recall'}\n",
    "from sklearn.linear_model import LogisticRegression\n",
    "clf = LogisticRegression(random_state=42)\n",
    "clf.fit(X_train, Y_train)"
   ]
  },
  {
   "cell_type": "code",
   "execution_count": 15,
   "id": "bc762e30-b5b0-404e-9b65-20eb005af8e0",
   "metadata": {},
   "outputs": [
    {
     "name": "stdout",
     "output_type": "stream",
     "text": [
      "K = 5\n",
      "Accuracy: 0.6956989247311828\n",
      "Precision: 0.6107142857142857\n",
      "Recall: 0.37914529914529915\n"
     ]
    }
   ],
   "source": [
    "#K=5\n",
    "cv = KFold(n_splits=5, random_state=42, shuffle=True)\n",
    "results = cross_validate(clf, X_test, Y_test, cv=cv, groups=None, scoring = scoring)\n",
    "#results\n",
    "print(\"K = 5\")\n",
    "print(\"Accuracy:\", np.mean(results['test_accuracy']))\n",
    "print(\"Precision:\", np.mean(results['test_precision']))\n",
    "print(\"Recall:\", np.mean(results['test_recall']))"
   ]
  },
  {
   "cell_type": "code",
   "execution_count": 16,
   "id": "8ba4d936-4d5e-4a4d-926c-5bfaf00be369",
   "metadata": {},
   "outputs": [
    {
     "data": {
      "text/plain": [
       "Text(0.5, 257.44, 'Predicted label')"
      ]
     },
     "execution_count": 16,
     "metadata": {},
     "output_type": "execute_result"
    },
    {
     "data": {
      "image/png": "[encoded data removed]",
      "text/plain": [
       "<Figure size 432x288 with 2 Axes>"
      ]
     },
     "metadata": {
      "needs_background": "light"
     },
     "output_type": "display_data"
    }
   ],
   "source": [
    "#Confusion Matrix for 3a\n",
    "pred3 = clf.predict(X_test)\n",
    "cmatrix = confusion_matrix(Y_test, pred3)\n",
    "#Confusion matrix visual 3\n",
    "class_names = [0,1]\n",
    "fig, ax = plt.subplots()\n",
    "tick_marks = np.arange(len(class_names))\n",
    "plt.xticks(tick_marks, class_names)\n",
    "plt.yticks(tick_marks, class_names)\n",
    "#Heatmap\n",
    "sns.heatmap(pd.DataFrame(cmatrix), annot = True, cmap = \"GnBu\", fmt = 'g')\n",
    "ax.xaxis.set_label_position(\"top\")\n",
    "plt.tight_layout()\n",
    "plt.title('Confusion matrix', y=1.1)\n",
    "plt.ylabel('Actual label')\n",
    "plt.xlabel('Predicted label')"
   ]
  },
  {
   "cell_type": "code",
   "execution_count": 17,
   "id": "4078b083-475f-4c57-afd3-7298b04a9cfe",
   "metadata": {},
   "outputs": [
    {
     "name": "stdout",
     "output_type": "stream",
     "text": [
      "K = 10\n",
      "Accuracy: 0.6775\n",
      "Precision: 0.5900000000000001\n",
      "Recall: 0.3271428571428572\n"
     ]
    }
   ],
   "source": [
    "import warnings\n",
    "warnings.filterwarnings(\"ignore\")\n",
    "#K=10\n",
    "cv2 = KFold(n_splits=10, random_state=42, shuffle=True)\n",
    "results2 = cross_validate(clf, X_test, Y_test, cv=cv2, groups=None, scoring = scoring)\n",
    "#results\n",
    "print(\"K = 10\")\n",
    "print(\"Accuracy:\", np.mean(results2['test_accuracy']))\n",
    "print(\"Precision:\", np.mean(results2['test_precision']))\n",
    "print(\"Recall:\", np.mean(results2['test_recall']))"
   ]
  },
  {
   "cell_type": "code",
   "execution_count": 18,
   "id": "785fa9a4-4f2a-4a9b-a647-9d4d642a623b",
   "metadata": {},
   "outputs": [
    {
     "data": {
      "text/plain": [
       "Text(0.5, 257.44, 'Predicted label')"
      ]
     },
     "execution_count": 18,
     "metadata": {},
     "output_type": "execute_result"
    },
    {
     "data": {
      "image/png": "[encoded data removed]",
      "text/plain": [
       "<Figure size 432x288 with 2 Axes>"
      ]
     },
     "metadata": {
      "needs_background": "light"
     },
     "output_type": "display_data"
    }
   ],
   "source": [
    "#Confusion Matrix for 3b\n",
    "pred3b = clf.predict(X_test)\n",
    "cmatrix = confusion_matrix(Y_test, pred3b)\n",
    "#Confusion matrix visual 4\n",
    "class_names = [0,1]\n",
    "fig, ax = plt.subplots()\n",
    "tick_marks = np.arange(len(class_names))\n",
    "plt.xticks(tick_marks, class_names)\n",
    "plt.yticks(tick_marks, class_names)\n",
    "#Heatmap\n",
    "sns.heatmap(pd.DataFrame(cmatrix), annot = True, cmap = \"GnBu\", fmt = 'g')\n",
    "ax.xaxis.set_label_position(\"top\")\n",
    "plt.tight_layout()\n",
    "plt.title('Confusion matrix', y=1.1)\n",
    "plt.ylabel('Actual label')\n",
    "plt.xlabel('Predicted label')"
   ]
  },
  {
   "cell_type": "code",
   "execution_count": 19,
   "id": "d462d708-00e2-4cfa-ae66-054aa2e41bd5",
   "metadata": {},
   "outputs": [
    {
     "name": "stdout",
     "output_type": "stream",
     "text": [
      "Accuracy: 0.6168831168831169\n",
      "Precision: 0.46153846153846156\n",
      "Recall: 0.43636363636363634\n"
     ]
    }
   ],
   "source": [
    "#Problem 4\n",
    "\n",
    "#Read csv file\n",
    "X = dataset.iloc[:, [0, 7]]\n",
    "Y = dataset.iloc[:, 8]\n",
    "X_train, X_test, Y_train, Y_test = train_test_split(X, Y, train_size = 0.8, test_size = 0.2, random_state = 42)\n",
    "\n",
    "#Naive Bays method\n",
    "classifier = GaussianNB()\n",
    "classifier.fit(X_train, Y_train)\n",
    "\n",
    "#Apply K fold K=10\n",
    "gnbRes = cross_validate(classifier, X_train, Y_train, cv = 10, scoring='accuracy')\n",
    "\n",
    "#prediction\n",
    "Y3_Pred = classifier.predict(X_test)\n",
    "#confusion and accuracy\n",
    "cmatrix = confusion_matrix(Y_test, Y3_Pred)\n",
    "print(\"Accuracy:\", accuracy_score(Y_test, Y3_Pred))\n",
    "print(\"Precision:\", precision_score(Y_test, Y3_Pred))\n",
    "print(\"Recall:\", recall_score(Y_test, Y3_Pred))\n"
   ]
  },
  {
   "cell_type": "code",
   "execution_count": 20,
   "id": "cf364e82-d2f3-4a07-a7a8-04c7da7ee206",
   "metadata": {},
   "outputs": [
    {
     "data": {
      "text/plain": [
       "Text(0.5, 257.44, 'Predicted label')"
      ]
     },
     "execution_count": 20,
     "metadata": {},
     "output_type": "execute_result"
    },
    {
     "data": {
      "image/png": "[encoded data removed]",
      "text/plain": [
       "<Figure size 432x288 with 2 Axes>"
      ]
     },
     "metadata": {
      "needs_background": "light"
     },
     "output_type": "display_data"
    }
   ],
   "source": [
    "#Confusion matrix visual 5\n",
    "import seaborn as sns\n",
    "class_names = [0,1]\n",
    "fig, ax = plt.subplots()\n",
    "tick_marks = np.arange(len(class_names))\n",
    "plt.xticks(tick_marks, class_names)\n",
    "plt.yticks(tick_marks, class_names)\n",
    "#Heatmap\n",
    "sns.heatmap(pd.DataFrame(cmatrix), annot = True, cmap = \"GnBu\", fmt = 'g')\n",
    "ax.xaxis.set_label_position(\"top\")\n",
    "plt.tight_layout()\n",
    "plt.title('Confusion matrix', y=1.1)\n",
    "plt.ylabel('Actual label')\n",
    "plt.xlabel('Predicted label')"
   ]
  }
 ],
 "metadata": {
  "kernelspec": {
   "display_name": "Python 3",
   "language": "python",
   "name": "python3"
  },
  "language_info": {
   "codemirror_mode": {
    "name": "ipython",
    "version": 3
   },
   "file_extension": ".py",
   "mimetype": "text/x-python",
   "name": "python",
   "nbconvert_exporter": "python",
   "pygments_lexer": "ipython3",
   "version": "3.8.8"
  }
 },
 "nbformat": 4,
 "nbformat_minor": 5
}
